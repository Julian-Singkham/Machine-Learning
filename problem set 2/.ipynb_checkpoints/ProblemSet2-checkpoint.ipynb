{
 "cells": [
  {
   "cell_type": "markdown",
   "metadata": {},
   "source": [
    "# Problem Set 2\n",
    "Submitted By: Julian Singkham  \n",
    "Date: 09/19/2021"
   ]
  },
  {
   "cell_type": "code",
   "execution_count": 1,
   "metadata": {},
   "outputs": [],
   "source": [
    "import numpy as np\n",
    "import matplotlib.pyplot as plt\n",
    "import seaborn as sb"
   ]
  },
  {
   "cell_type": "markdown",
   "metadata": {},
   "source": [
    "## 1) In lecture, we talked about evaluating models on a grid of points to estimate and visualize the output of our models. In this problem, you are going to walk through that process."
   ]
  },
  {
   "cell_type": "markdown",
   "metadata": {},
   "source": [
    "### (a) Create evenly spaced points of form $(x_{1}, x_{2})$ in the 2-dimensional space bounded by $0 \\leq x_{1} \\leq 10$ and $0 \\leq x2 \\leq 10$. Use 20 points along each dimension (400 points total). Save these points as a matrix of observations, $\\vec{X}$ . The matrix should have 2 columns and 400 rows. Hint: Look at the linspace and meshgrid functions in Numpy."
   ]
  },
  {
   "cell_type": "code",
   "execution_count": 2,
   "metadata": {},
   "outputs": [],
   "source": [
    "x = np.linspace(0, 10, num=20)\n",
    "\n",
    "x1, x2 = np.meshgrid(x,x)\n",
    "oberservations = np.array([x1.flatten(), x2.flatten()]).T"
   ]
  },
  {
   "cell_type": "markdown",
   "metadata": {},
   "source": [
    "### (b) Plot the observations in $\\vec{X}$ using a scatter plot"
   ]
  },
  {
   "cell_type": "code",
   "execution_count": 3,
   "metadata": {},
   "outputs": [
    {
     "data": {
      "text/plain": [
       "<matplotlib.collections.PathCollection at 0x2481c8946d0>"
      ]
     },
     "execution_count": 3,
     "metadata": {},
     "output_type": "execute_result"
    },
    {
     "data": {
      "image/png": "[encoded data removed]",
      "text/plain": [
       "<Figure size 432x288 with 1 Axes>"
      ]
     },
     "metadata": {
      "needs_background": "light"
     },
     "output_type": "display_data"
    }
   ],
   "source": [
    "plt.scatter(oberservations[:,0], oberservations[:, 1])"
   ]
  },
  {
   "cell_type": "markdown",
   "metadata": {},
   "source": [
    "### (c) Consider the model $f(x) = X \\vec{w}^{T} + α$ where $\\vec{w} = [5, 3]$ and $α = −10$. Evaluate the model at the points in $\\vec{X}$) to create a vector of predicted values. Hint: use np.reshape and np.hstack to create a 400 × 2 matrix."
   ]
  },
  {
   "cell_type": "code",
   "execution_count": 4,
   "metadata": {},
   "outputs": [],
   "source": [
    "w = np.array([5, 3])\n",
    "a = -10\n",
    "points = np.array(np.matmul(oberservations, np.transpose(w)) + a)"
   ]
  },
  {
   "cell_type": "markdown",
   "metadata": {},
   "source": [
    "### (d) Use Seaborn’s heatmap function to plot the model values. Hint: You’ll need to convert the output vector of the model back to a square 20 × 20 array using np.reshape."
   ]
  },
  {
   "cell_type": "code",
   "execution_count": 5,
   "metadata": {},
   "outputs": [
    {
     "data": {
      "text/plain": [
       "<AxesSubplot:>"
      ]
     },
     "execution_count": 5,
     "metadata": {},
     "output_type": "execute_result"
    },
    {
     "data": {
      "image/png": "[encoded data removed]",
      "text/plain": [
       "<Figure size 432x288 with 2 Axes>"
      ]
     },
     "metadata": {
      "needs_background": "light"
     },
     "output_type": "display_data"
    }
   ],
   "source": [
    "points_heat = np.reshape(points, [20,20])\n",
    "sb.heatmap(points_heat)"
   ]
  },
  {
   "cell_type": "markdown",
   "metadata": {},
   "source": [
    "### (e) You may have noticed the the model outputs are continuous. We can convert the continuous values to categorical by using a threshold. Whenever a value $\\leq 0$, the label should be 0. When the value is $> 0$, the label should be 1. Create a vector of predicted (categorical) labels. Hint: Create an array of 0’s or 1’s and use a mask to set the remaining values.\n"
   ]
  },
  {
   "cell_type": "code",
   "execution_count": 6,
   "metadata": {},
   "outputs": [],
   "source": [
    "oberservations_label = np.zeros((400,1))\n",
    "for i in range(400):\n",
    "    if points[i] > 0:\n",
    "        oberservations_label[i] = 1"
   ]
  },
  {
   "cell_type": "markdown",
   "metadata": {},
   "source": [
    "### (f) Use Matplotlib’s contourf function to create a contour plot from the binary values. Hint: You’ll need to convert the binary vector to a square 20 × 20 array using np.reshape."
   ]
  },
  {
   "cell_type": "code",
   "execution_count": 7,
   "metadata": {},
   "outputs": [
    {
     "data": {
      "text/plain": [
       "<matplotlib.contour.QuadContourSet at 0x2481cceec40>"
      ]
     },
     "execution_count": 7,
     "metadata": {},
     "output_type": "execute_result"
    },
    {
     "data": {
      "image/png": "[encoded data removed]",
      "text/plain": [
       "<Figure size 432x288 with 1 Axes>"
      ]
     },
     "metadata": {
      "needs_background": "light"
     },
     "output_type": "display_data"
    }
   ],
   "source": [
    "oberservations_label = np.reshape(oberservations_label, [20,20])\n",
    "\n",
    "oberservations_x = np.reshape(oberservations[:,0], [20,20])\n",
    "oberservations_y = np.reshape(oberservations[:,1], [20,20])\n",
    "plt.contourf(oberservations_x, oberservations_y, oberservations_label)"
   ]
  },
  {
   "cell_type": "markdown",
   "metadata": {},
   "source": [
    "# 2) In lecture, we talked about geometric objects (e.g., points, vectors, and planes) and how they can be used to model linear decision boundaries. This problem explores some of their properties and how to apply these objects to classification."
   ]
  },
  {
   "cell_type": "markdown",
   "metadata": {},
   "source": [
    "### (a) Write the equations for each plane with normal vector $\\vec{n}$ and intersecting the point $r_{0}$:"
   ]
  },
  {
   "cell_type": "markdown",
   "metadata": {},
   "source": [
    "##### (i) $\\vec{n} = \\langle1, 1\\rangle, r_{0} = (5, 7)$"
   ]
  },
  {
   "cell_type": "code",
   "execution_count": 8,
   "metadata": {},
   "outputs": [
    {
     "name": "stdout",
     "output_type": "stream",
     "text": [
      "Plane: 1x + 1y = 12\n"
     ]
    },
    {
     "data": {
      "text/plain": [
       "Text(0, 0.5, 'Y label')"
      ]
     },
     "execution_count": 8,
     "metadata": {},
     "output_type": "execute_result"
    },
    {
     "data": {
      "image/png": "[encoded data removed]",
      "text/plain": [
       "<Figure size 432x288 with 1 Axes>"
      ]
     },
     "metadata": {
      "needs_background": "light"
     },
     "output_type": "display_data"
    }
   ],
   "source": [
    "n = np.array([1,1])\n",
    "r_o = np.array([5,7])\n",
    "output = -np.sum(n * -r_o)\n",
    "print(\"Plane: {x}x + {y}y = {out}\".format(x=n[0], y=n[1], out=output))\n",
    "\n",
    "line = np.array([[0,12],[12,0]])\n",
    "plt.plot(line[:,0], line[:, 1])\n",
    "plt.scatter(5, 7, color=\"orange\")\n",
    "plt.xlabel(\"X label\")\n",
    "plt.ylabel(\"Y label\")"
   ]
  },
  {
   "cell_type": "markdown",
   "metadata": {},
   "source": [
    "##### (ii) $\\vec{n} = \\langle−1, −1\\rangle, r_{0} = (5, 7)$"
   ]
  },
  {
   "cell_type": "code",
   "execution_count": 9,
   "metadata": {},
   "outputs": [
    {
     "name": "stdout",
     "output_type": "stream",
     "text": [
      "Plane: -1x + -1y = -12\n"
     ]
    },
    {
     "data": {
      "text/plain": [
       "Text(0, 0.5, 'Y label')"
      ]
     },
     "execution_count": 9,
     "metadata": {},
     "output_type": "execute_result"
    },
    {
     "data": {
      "image/png": "[encoded data removed]",
      "text/plain": [
       "<Figure size 432x288 with 1 Axes>"
      ]
     },
     "metadata": {
      "needs_background": "light"
     },
     "output_type": "display_data"
    }
   ],
   "source": [
    "n = np.array([-1,-1])\n",
    "r_o = np.array([5,7])\n",
    "output = -np.sum(n * -r_o)\n",
    "print(\"Plane: {x}x + {y}y = {out}\".format(x=n[0], y=n[1], out=output))\n",
    "\n",
    "line = np.array([[0,12],[12,0]])\n",
    "plt.plot(line[:,0], line[:, 1])\n",
    "plt.scatter(5, 7, color=\"orange\")\n",
    "plt.xlabel(\"X label\")\n",
    "plt.ylabel(\"Y label\")"
   ]
  },
  {
   "cell_type": "markdown",
   "metadata": {},
   "source": [
    "##### (iii) $\\vec{n} = \\langle1, 1, 0\\rangle, r_{0} = (1, 2, 3)$"
   ]
  },
  {
   "cell_type": "code",
   "execution_count": 10,
   "metadata": {},
   "outputs": [
    {
     "name": "stdout",
     "output_type": "stream",
     "text": [
      "Plane: 1x + 1y + 0z = 2\n"
     ]
    },
    {
     "data": {
      "text/plain": [
       "Text(0.5, 0, 'Z label')"
      ]
     },
     "execution_count": 10,
     "metadata": {},
     "output_type": "execute_result"
    },
    {
     "data": {
      "image/png": "[encoded data removed]",
      "text/plain": [
       "<Figure size 432x288 with 1 Axes>"
      ]
     },
     "metadata": {
      "needs_background": "light"
     },
     "output_type": "display_data"
    }
   ],
   "source": [
    "n = np.array([1,1,0])\n",
    "r_o = np.array([1,2,3])\n",
    "output = -np.sum(n * -r_o[0])\n",
    "print(\"Plane: {x}x + {y}y + {z}z = {out}\".format(x=n[0], y=n[1], z=n[2], out=output))\n",
    "\n",
    "x = np.linspace(-5, 5, 11)\n",
    "z = np.linspace(-5, 5, 11)\n",
    "X, Z = np.meshgrid(x,z)\n",
    "Y = -X + 3\n",
    "\n",
    "fig = plt.figure()\n",
    "ax = fig.add_subplot(111, projection = \"3d\")\n",
    "ax.plot_surface(X, Y, Z, alpha = 0.5)\n",
    "ax.scatter(1, 2, 3, color=\"orange\")\n",
    "\n",
    "ax.set_xlabel(\"X label\")\n",
    "ax.set_ylabel(\"Y label\")\n",
    "ax.set_zlabel(\"Z label\")"
   ]
  },
  {
   "cell_type": "markdown",
   "metadata": {},
   "source": [
    "##### (iv) $\\vec{n} = \\langle−1, −1, 0\\rangle, r_{0} = (1, 2, 3)$"
   ]
  },
  {
   "cell_type": "code",
   "execution_count": 11,
   "metadata": {},
   "outputs": [
    {
     "name": "stdout",
     "output_type": "stream",
     "text": [
      "Plane: -1x + -1y + 0z = -3\n"
     ]
    },
    {
     "data": {
      "text/plain": [
       "Text(0.5, 0, 'Z label')"
      ]
     },
     "execution_count": 11,
     "metadata": {},
     "output_type": "execute_result"
    },
    {
     "data": {
      "image/png": "[encoded data removed]",
      "text/plain": [
       "<Figure size 432x288 with 1 Axes>"
      ]
     },
     "metadata": {
      "needs_background": "light"
     },
     "output_type": "display_data"
    }
   ],
   "source": [
    "n = np.array([-1,-1,0])\n",
    "r_o = np.array([1,2,3])\n",
    "output = -np.sum(n * -r_o)\n",
    "print(\"Plane: {x}x + {y}y + {z}z = {out}\".format(x=n[0], y=n[1], z=n[2], out=output))\n",
    "\n",
    "x = np.linspace(-5, 5, 11)\n",
    "z = np.linspace(-5, 5, 11)\n",
    "X, Z = np.meshgrid(x,z)\n",
    "Y = -X + 3\n",
    "\n",
    "fig = plt.figure()\n",
    "ax = fig.add_subplot(111, projection = \"3d\")\n",
    "ax.plot_surface(X, Y, Z, alpha = 0.5)\n",
    "ax.scatter(1, 2, 3, color=\"orange\")\n",
    "\n",
    "ax.set_xlabel(\"X label\")\n",
    "ax.set_ylabel(\"Y label\")\n",
    "ax.set_zlabel(\"Z label\")"
   ]
  },
  {
   "cell_type": "markdown",
   "metadata": {},
   "source": [
    "##### (v) Explain why you cannot find a plane from the following: $\\vec{n} = \\langle1, 3, 5, 11\\rangle, r_{0} = (13, 17)$"
   ]
  },
  {
   "cell_type": "markdown",
   "metadata": {},
   "source": [
    "A plane can not be calculated from the above parameters due to r<sub>0</sub> not being the same size as n. r<sub>0</sub> is of size 2 wile n is of size 4."
   ]
  },
  {
   "cell_type": "markdown",
   "metadata": {},
   "source": [
    "##### (vi) Simplify the equations from (i-iv) as much as possible. What do you notice about the pairs (i) and (ii) and (iii) and (iv)?"
   ]
  },
  {
   "cell_type": "markdown",
   "metadata": {},
   "source": [
    "(i)&(ii) and (iii)&(iv) have the same plane as the vector normal to the plane are the same, just in opposite directions. The values of n are scalers for the axes and the value of the plane equation is the negative of the sum of n * r<sub>0</sub>"
   ]
  },
  {
   "cell_type": "markdown",
   "metadata": {},
   "source": [
    "##### (vii) Plot the normal vectors, points, and planes from (i-iv). Hints: Planes in 2D spaces are lines. For the 3D case, create a 3D projection and use the plot surface function to create the plane."
   ]
  },
  {
   "cell_type": "markdown",
   "metadata": {},
   "source": [
    "See above"
   ]
  },
  {
   "cell_type": "markdown",
   "metadata": {},
   "source": [
    "### (b) Planes divide spaces in half. We can use the sign of a dot product operation to determine which side of the plane a point lies.\n",
    "$$\n",
    "\\langle2, 2\\rangle · \\langle5-x, 5-y\\rangle = 0\n",
    "$$\n",
    "\n",
    "| x | y  |\n",
    "|---|----|\n",
    "| 2 | 15 |\n",
    "| 3 | 17 |\n",
    "| 4 | 13 |\n",
    "| 4 | 1  |\n",
    "| 5 | 3  |\n",
    "| 6 | 2  |\n"
   ]
  },
  {
   "cell_type": "markdown",
   "metadata": {},
   "source": [
    "##### (i) Calculate the sign for each of the given points (see the lecture on geometry)."
   ]
  },
  {
   "cell_type": "code",
   "execution_count": 12,
   "metadata": {},
   "outputs": [
    {
     "data": {
      "text/plain": [
       "array([[-14.],\n",
       "       [-20.],\n",
       "       [-14.],\n",
       "       [ 10.],\n",
       "       [  4.],\n",
       "       [  4.]])"
      ]
     },
     "execution_count": 12,
     "metadata": {},
     "output_type": "execute_result"
    }
   ],
   "source": [
    "x = np.array([2,3,4,4,5,6]).T\n",
    "y = np.array([15,17,13,1,3,2]).T\n",
    "n = np.array([2,2])\n",
    "sign = np.zeros((6,1))\n",
    "\n",
    "for i in range(0,6):\n",
    "    sign[i] = np.dot(n,[5-x[i],5-y[i]])\n",
    "sign"
   ]
  },
  {
   "cell_type": "markdown",
   "metadata": {},
   "source": [
    "##### (ii) Plot the plane and points."
   ]
  },
  {
   "cell_type": "code",
   "execution_count": 13,
   "metadata": {},
   "outputs": [
    {
     "data": {
      "text/plain": [
       "Text(0, 0.5, 'Y label')"
      ]
     },
     "execution_count": 13,
     "metadata": {},
     "output_type": "execute_result"
    },
    {
     "data": {
      "image/png": "[encoded data removed]",
      "text/plain": [
       "<Figure size 432x288 with 1 Axes>"
      ]
     },
     "metadata": {
      "needs_background": "light"
     },
     "output_type": "display_data"
    }
   ],
   "source": [
    "line_x = np.linspace(0,10)\n",
    "line_y = 10 - line_x\n",
    "plt.plot(line_x, line_y)\n",
    "plt.scatter(x, y)\n",
    "plt.xlabel(\"X label\")\n",
    "plt.ylabel(\"Y label\")"
   ]
  },
  {
   "cell_type": "markdown",
   "metadata": {},
   "source": [
    "##### (iii) Do all of the points lying on the same side of the plane have the same sign?"
   ]
  },
  {
   "cell_type": "markdown",
   "metadata": {},
   "source": [
    "Yes"
   ]
  },
  {
   "cell_type": "markdown",
   "metadata": {},
   "source": [
    "# 3) In lecture, we talked about the importance of splitting data into training and testing sets if we want to evaluate models in a realistic fashion. In this problem, you are going to implement your own function for randomly splitting data and look at the impact of using stratification."
   ]
  },
  {
   "cell_type": "markdown",
   "metadata": {},
   "source": [
    "### (a) Load in the haberman.csv dataset as a feature matrix. The last column indicates the class (either 1 = the patient survived 5 years or longer or 2 = the patient died within 5 years) of each observation."
   ]
  },
  {
   "cell_type": "code",
   "execution_count": 14,
   "metadata": {},
   "outputs": [],
   "source": [
    "np_feature = np.loadtxt(open('haberman.csv', \"rb\"), delimiter=\",\")"
   ]
  },
  {
   "cell_type": "markdown",
   "metadata": {},
   "source": [
    "### (b) Randomly assign each observation (row) in the feature matrix to the training or testing set. 70% of the samples should be assigned to the training set, while 30% should be assigned to the testing set. Hint: Consider the Numpy function random.rand. If the random number is $\\leq 0.7$, assign the sample to the training set. Otherwise, assign the sample to the test set."
   ]
  },
  {
   "cell_type": "code",
   "execution_count": 15,
   "metadata": {},
   "outputs": [],
   "source": [
    "num_rows, num_cols = np_feature.shape\n",
    "np.random.shuffle(np_feature)\n",
    "np_training, np_test = np_feature[:int(num_rows*0.7),:], np_feature[int(num_rows*0.7):,:]"
   ]
  },
  {
   "cell_type": "markdown",
   "metadata": {},
   "source": [
    "### (c) How many observations of each class do you expect there to be in the training and testing sets? Count the number of observations of each class in the entire data set and in both the training and testing sets. How do your counts for the training and tests compare with the counts for the entire data set? (Hint: Consider the Numpy function unique and its return counts argument.)"
   ]
  },
  {
   "cell_type": "markdown",
   "metadata": {},
   "source": [
    "Between the dataset, training set, and test set, I expect the ratio between class 1 and class 2 to be within 5% of each other. The total number of data points between the training set and test set addup to the dataset. Through testing I found that the ratio between class 1 and class 2 averaged around 5-10%."
   ]
  },
  {
   "cell_type": "code",
   "execution_count": 16,
   "metadata": {},
   "outputs": [
    {
     "name": "stdout",
     "output_type": "stream",
     "text": [
      "Dataset \tclass 1: 225 \tclass 2: 81 \ttotal: 306 \tratio class 1: 73.52941176470588\n",
      "Training \tclass 1: 166 \tclass 2: 48 \ttotal: 214 \tratio class 1: 77.57009345794393\n",
      "Test \t\tclass 1: 59 \tclass 2: 33 \ttotal: 92 \tratio class 1: 64.13043478260869\n"
     ]
    }
   ],
   "source": [
    "np_feature_values, np_feature_count = np.unique(np_feature[:,3], return_counts=True, axis=0)\n",
    "np_training_values, np_training_count = np.unique(np_training[:,3], return_counts=True, axis=0)\n",
    "np_test_values, np_test_count = np.unique(np_test[:,3], return_counts=True, axis=0)\n",
    "\n",
    "print(\"Dataset \\tclass 1:\", np_feature_count[0], \"\\tclass 2:\", np_feature_count[1], \n",
    "      \"\\ttotal:\", np.sum(np_feature_count), \"\\tratio class 1:\", np_feature_count[0]/np.sum(np_feature_count)*100)\n",
    "print(\"Training \\tclass 1:\", np_training_count[0], \"\\tclass 2:\", np_training_count[1], \n",
    "      \"\\ttotal:\", np.sum(np_training_count), \"\\tratio class 1:\", np_training_count[0]/np.sum(np_training_count)*100)\n",
    "print(\"Test \\t\\tclass 1:\", np_test_count[0], \"\\tclass 2:\", np_test_count[1], \n",
    "      \"\\ttotal:\", np.sum(np_test_count), \"\\tratio class 1:\", np_test_count[0]/np.sum(np_test_count)*100)\n",
    "\n"
   ]
  },
  {
   "cell_type": "markdown",
   "metadata": {},
   "source": [
    "### (d) Randomly assign the observations again. This time, stratify (divide) the observations by class first. (Hint: Consider how you might use a mask.) Then, repeat the random assignment into training and testing sets for each class."
   ]
  },
  {
   "cell_type": "code",
   "execution_count": 17,
   "metadata": {},
   "outputs": [],
   "source": [
    "np_feature = np.loadtxt(open('haberman.csv', \"rb\"), delimiter=\",\")\n",
    "np.random.shuffle(np_feature)\n",
    "np_feature_1 = np_feature[np_feature[:, 3] == 1]\n",
    "np_feature_2 = np_feature[np_feature[:, 3] == 2]\n",
    "\n",
    "num_rows_1, num_cols_1 = np_feature_1.shape\n",
    "num_rows_2, num_cols_2 = np_feature_2.shape\n",
    "\n",
    "np_training, np_test = np_feature_1[:int(num_rows_1*0.7),:], np_feature_1[int(num_rows_1*0.7):,:]\n",
    "np_training = np.concatenate((np_training, np_feature_2[:int(num_rows_2*0.7),:]))\n",
    "np_test = np.concatenate((np_test, np_feature_2[int(num_rows_2*0.7):,:]))\n",
    "\n",
    "np.random.shuffle(np_test)\n",
    "np.random.shuffle(np_training)"
   ]
  },
  {
   "cell_type": "markdown",
   "metadata": {},
   "source": [
    "### (e) Count the number of observations for each class in both the training and testing sets. How do your counts compare with your expectation?"
   ]
  },
  {
   "cell_type": "markdown",
   "metadata": {},
   "source": [
    "The training and test set nearly match the dataset in terms of class distributions. This matches with my expectations as pre-segregating the data into classes prior to making the training and test set will mimic the dataset's distribution. What surprises me is that the training set count differs by 1 from the previous example. This is most likely due to rounding errors in the size of the segregated datasets."
   ]
  },
  {
   "cell_type": "code",
   "execution_count": 18,
   "metadata": {},
   "outputs": [
    {
     "name": "stdout",
     "output_type": "stream",
     "text": [
      "Dataset \tclass 1: 225 \tclass 2: 81 \ttotal: 306 \tratio class 1: 73.52941176470588\n",
      "Training \tclass 1: 157 \tclass 2: 56 \ttotal: 213 \tratio class 1: 73.70892018779342\n",
      "Test \t\tclass 1: 68 \tclass 2: 25 \ttotal: 93 \tratio class 1: 73.11827956989248\n"
     ]
    }
   ],
   "source": [
    "np_feature_values, np_feature_count = np.unique(np_feature[:,3], return_counts=True, axis=0)\n",
    "np_training_values, np_training_count = np.unique(np_training[:,3], return_counts=True, axis=0)\n",
    "np_test_values, np_test_count = np.unique(np_test[:,3], return_counts=True, axis=0)\n",
    "\n",
    "print(\"Dataset \\tclass 1:\", np_feature_count[0], \"\\tclass 2:\", np_feature_count[1], \n",
    "      \"\\ttotal:\", np.sum(np_feature_count), \"\\tratio class 1:\", np_feature_count[0]/np.sum(np_feature_count)*100)\n",
    "print(\"Training \\tclass 1:\", np_training_count[0], \"\\tclass 2:\", np_training_count[1], \n",
    "      \"\\ttotal:\", np.sum(np_training_count), \"\\tratio class 1:\", np_training_count[0]/np.sum(np_training_count)*100)\n",
    "print(\"Test \\t\\tclass 1:\", np_test_count[0], \"\\tclass 2:\", np_test_count[1], \n",
    "      \"\\ttotal:\", np.sum(np_test_count), \"\\tratio class 1:\", np_test_count[0]/np.sum(np_test_count)*100)"
   ]
  },
  {
   "cell_type": "markdown",
   "metadata": {},
   "source": [
    "### (f) How could an uneven distribution of the observations impact the training and evaluation of a model? Explain why stratification is important."
   ]
  },
  {
   "cell_type": "markdown",
   "metadata": {},
   "source": [
    "Uneven distribution of observations can impact training and evaluation of a model as the randomly generated training set does not properly reflect the dataset. If the training set was randomly generated, there is a possibility where the training set is almost entirely composed of a single class. This can skew the model as it is now biased towards a particular class. Stratification allows you to generate training sets that keep the ratios between the classes, thus preventing accidental bias."
   ]
  },
  {
   "cell_type": "markdown",
   "metadata": {},
   "source": [
    "# 4) Confusion Matrices:"
   ]
  },
  {
   "cell_type": "markdown",
   "metadata": {},
   "source": [
    "### (a) Given the following vectors of true and predicted labels, construct a confusion matrix. Be sure to indicate which dimensions correspond to the true and predicted labels.\n",
    "\n",
    "| True | Predicted |\n",
    "|------|-----------|\n",
    "| Bee  | Wasp      |\n",
    "| Bee  | Bee       |\n",
    "| Bee  | Bee       |\n",
    "| Wasp | Wasp      |\n",
    "| Wasp | Bee       |\n",
    "| Wasp | Bee       |\n",
    "| Wasp | Wasp      |\n",
    "| Wasp | Wasp      |\n"
   ]
  },
  {
   "cell_type": "markdown",
   "metadata": {},
   "source": [
    "|        |      |     |Predicted Labels |\n",
    "| ------ | ---- | --- | ---- |\n",
    "|        |      | Bee | Wasp |\n",
    "| True   | Bee  | 2   | 1    |\n",
    "| Labels | Wasp | 2   |  3   |"
   ]
  },
  {
   "cell_type": "markdown",
   "metadata": {},
   "source": [
    "### (b) Given the following confusion matrix, label the true positives, false positives, false negatives, and true negatives. Assume that “cancer” is the positive class.\n",
    "\n",
    "|        | cancer | benign |\n",
    "|--------|--------|--------|\n",
    "| cancer | 35     | 14     |\n",
    "| benign | 38     | 60     |\n"
   ]
  },
  {
   "cell_type": "code",
   "execution_count": 19,
   "metadata": {},
   "outputs": [
    {
     "name": "stdout",
     "output_type": "stream",
     "text": [
      "True Positive:  60\n",
      "False Positive: 14\n",
      "True Negative:  35\n",
      "False Negative: 38\n"
     ]
    }
   ],
   "source": [
    "print(\"True Positive:  60\")\n",
    "print(\"False Positive: 14\")\n",
    "print(\"True Negative:  35\")\n",
    "print(\"False Negative: 38\")"
   ]
  },
  {
   "cell_type": "markdown",
   "metadata": {},
   "source": [
    "### (c) Calculate accuracy, precision, and recall from the confusion matrix in (b)."
   ]
  },
  {
   "cell_type": "code",
   "execution_count": 20,
   "metadata": {},
   "outputs": [
    {
     "name": "stdout",
     "output_type": "stream",
     "text": [
      "Accuracy =  64.62585034013605 %\n",
      "Precision =  81.08108108108108 %\n",
      "Recall =  61.224489795918366 %\n"
     ]
    }
   ],
   "source": [
    "print(\"Accuracy = \", 95/147*100, \"%\")\n",
    "print(\"Precision = \", 60/74*100, \"%\")\n",
    "print(\"Recall = \", 60/98*100, \"%\")"
   ]
  },
  {
   "cell_type": "markdown",
   "metadata": {},
   "source": [
    "# 5) In this problem, we are going to walk you through creating a Receiver Operator Characteristic (ROC) curve from scratch. Most classifiers can output a continuous-valued “score,” not just a categorical class label. The score represents the confidence of the classifier in its decision. Some classifiers such as Logistic Regression and Na¨ıve Bayes are able to predict not just a score but the probability $P(y = 1|\\vec{x})$ that a sample with feature vector $\\vec{x}$ belongs to class 1. An ROC curve allows us to see how different thresholds for the score produce different trade offs between true and false positive rates. The true positive rate indicates what fraction of the positive predictions are correct, while the false positive rate indicates what fraction of the negatives are mis-predicted as positives."
   ]
  },
  {
   "cell_type": "markdown",
   "metadata": {},
   "source": [
    "### (a) Load the data in the provided file ex1 results.csv. The first column contains the estimated probabilities (generated from a machine learning model) that the observation belongs to class 1, while the second column contains the true labels (either 0 or 1)."
   ]
  },
  {
   "cell_type": "code",
   "execution_count": 21,
   "metadata": {},
   "outputs": [],
   "source": [
    "np_ex = np.loadtxt(open('ex1_results.csv', \"rb\"), delimiter=\",\")"
   ]
  },
  {
   "cell_type": "markdown",
   "metadata": {},
   "source": [
    "### (b) Use 3 thresholds (0.25, 0.5, and 0.75) for the scores to get binary predicted labels. If the score for an observation is less than the threshold, its predicted label should be 0. Otherwise, the predicted label should be 1."
   ]
  },
  {
   "cell_type": "code",
   "execution_count": 22,
   "metadata": {},
   "outputs": [],
   "source": [
    "np_threshold = np.array([0.25,0.5,0.75])"
   ]
  },
  {
   "cell_type": "markdown",
   "metadata": {},
   "source": [
    "### (c) For each threshold, create a confusion matrix"
   ]
  },
  {
   "cell_type": "code",
   "execution_count": 23,
   "metadata": {},
   "outputs": [
    {
     "name": "stdout",
     "output_type": "stream",
     "text": [
      "[[ 2437  4104]\n",
      " [  468 12991]]\n",
      "[[ 3145  3396]\n",
      " [  667 12792]]\n",
      "[[ 3859  2682]\n",
      " [  931 12528]]\n"
     ]
    }
   ],
   "source": [
    "np_ex_t1 = np.array([[0,0],[0,0]])\n",
    "np_ex_t2 = np.array([[0,0],[0,0]])\n",
    "np_ex_t3 = np.array([[0,0],[0,0]])\n",
    "\n",
    "for x in np_ex:\n",
    "    #threshold 1\n",
    "    if x[0] >= np_threshold[0]:\n",
    "        #True Positive\n",
    "        if x[1] == 1:\n",
    "            np_ex_t1[1][1] = np_ex_t1[1][1] + 1\n",
    "        #False Positive\n",
    "        else:\n",
    "            np_ex_t1[0][1] = np_ex_t1[0][1] + 1\n",
    "    else:\n",
    "        #True Negative\n",
    "        if x[1] == 0:\n",
    "            np_ex_t1[0][0] = np_ex_t1[0][0] + 1\n",
    "        #False Negative\n",
    "        else:\n",
    "            np_ex_t1[1][0] = np_ex_t1[1][0] + 1\n",
    "            \n",
    "    #threshold 2\n",
    "    if x[0] >= np_threshold[1]:\n",
    "        #True Positive\n",
    "        if x[1] == 1:\n",
    "            np_ex_t2[1][1] = np_ex_t2[1][1] + 1\n",
    "        #False Positive\n",
    "        else:\n",
    "            np_ex_t2[0][1] = np_ex_t2[0][1] + 1\n",
    "    else:\n",
    "        #True Negative\n",
    "        if x[1] == 0:\n",
    "            np_ex_t2[0][0] = np_ex_t2[0][0] + 1\n",
    "        #False Negative\n",
    "        else:\n",
    "            np_ex_t2[1][0] = np_ex_t2[1][0] + 1\n",
    "            \n",
    "    #threshold 1\n",
    "    if x[0] >= np_threshold[2]:\n",
    "        #True Positive\n",
    "        if x[1] == 1:\n",
    "            np_ex_t3[1][1] = np_ex_t3[1][1] + 1\n",
    "        #False Positive\n",
    "        else:\n",
    "            np_ex_t3[0][1] = np_ex_t3[0][1] + 1\n",
    "    else:\n",
    "        #True Negative\n",
    "        if x[1] == 0:\n",
    "            np_ex_t3[0][0] = np_ex_t3[0][0] + 1\n",
    "        #False Negative\n",
    "        else:\n",
    "            np_ex_t3[1][0] = np_ex_t3[1][0] + 1\n",
    "\n",
    "print(np_ex_t1)\n",
    "print(np_ex_t2)\n",
    "print(np_ex_t3)"
   ]
  },
  {
   "cell_type": "markdown",
   "metadata": {},
   "source": [
    "### (d) For each confusion matrix, calculate the true and false positive rates. What do you notice about the two rates as the threshold is changed? Which thresholds give the highest and lowest true positive rates? Which thresholds give the highest and lowest false positive rates?"
   ]
  },
  {
   "cell_type": "markdown",
   "metadata": {},
   "source": [
    "As the threshold increases, the number of false positive and true positive results decrease.  \n",
    "\n",
    "T1 TP Rate 64.96%  \n",
    "T1 FP Rate 20.52%  \n",
    "T2 TP Rate 63.96%  \n",
    "T2 FP Rate 16.98%  \n",
    "T3 TP Rate 62.64%  \n",
    "T3 FP Rate 13.41%  \n",
    "\n",
    "Threshold 1 (0.25) gives the highest true positive rate and threshold 3 (0.75) gives the lowest. The same can be said for the highest false positive and lowest false positive rates.\n",
    "\n",
    "As the threshold increases, the true positive rate decreases slightly; but the false positive rate greatly decreases."
   ]
  },
  {
   "cell_type": "markdown",
   "metadata": {},
   "source": [
    "### (e) Create a list of all unique scores. Sort the scores from highest to lowest. Use each score as a threshold and predict the true and false positive rates:"
   ]
  },
  {
   "cell_type": "code",
   "execution_count": 24,
   "metadata": {},
   "outputs": [],
   "source": [
    "np_unique = np.unique(np_ex)\n",
    "np_unique = np.sort(np_unique)[::-1]"
   ]
  },
  {
   "cell_type": "markdown",
   "metadata": {},
   "source": [
    "##### (i) Use the threshold to predict the labels for each observation."
   ]
  },
  {
   "cell_type": "code",
   "execution_count": 26,
   "metadata": {},
   "outputs": [],
   "source": [
    "#each row is a data entry and each column is a threshold\n",
    "np_prediction = np.zeros((np_ex.shape[0], np_unique.size))\n",
    "\n",
    "for i in range(0, np_ex.shape[0]):\n",
    "    for j in range(0, np_unique.size):\n",
    "        if np_ex[i,0] >= np_unique[j]:\n",
    "            np_prediction[i,j] = 1"
   ]
  },
  {
   "cell_type": "markdown",
   "metadata": {},
   "source": [
    "##### (ii) Calculate the true and false positive rates."
   ]
  },
  {
   "cell_type": "code",
   "execution_count": 27,
   "metadata": {},
   "outputs": [],
   "source": [
    "# Each row is a threshold, col 1 is true positive and col 2 is false positive\n",
    "np_positive_rates = np.zeros((np_unique.size, 2))\n",
    "\n",
    "for i in range(0, np_unique.size):\n",
    "    for j in range(0, np_ex.shape[0]):\n",
    "        #True positive\n",
    "        if np_prediction[j,i] == 1 and np_prediction[j,i] == np_ex[j,1]:\n",
    "            np_positive_rates[i,0] = np_positive_rates[i,0] + 1\n",
    "        #False Positive\n",
    "        elif np_prediction[j,i] == 1 and np_prediction[j,i] != np_ex[j,1]:\n",
    "            np_positive_rates[i,1] = np_positive_rates[i,1] + 1"
   ]
  },
  {
   "cell_type": "markdown",
   "metadata": {},
   "source": [
    "### (f) Plot the true (horizontal) and false (vertical) positive rates for each threshold."
   ]
  },
  {
   "cell_type": "code",
   "execution_count": 29,
   "metadata": {},
   "outputs": [
    {
     "data": {
      "text/plain": [
       "Text(0, 0.5, 'True Positive Rate')"
      ]
     },
     "execution_count": 29,
     "metadata": {},
     "output_type": "execute_result"
    },
    {
     "data": {
      "image/png": "[encoded data removed]",
      "text/plain": [
       "<Figure size 432x288 with 1 Axes>"
      ]
     },
     "metadata": {
      "needs_background": "light"
     },
     "output_type": "display_data"
    }
   ],
   "source": [
    "plt.scatter(np_positive_rates[:,1]/20000, np_positive_rates[:,0]/20000)\n",
    "plt.xlabel(\"False Positive Rate\")\n",
    "plt.ylabel(\"True Positive Rate\")"
   ]
  },
  {
   "cell_type": "code",
   "execution_count": null,
   "metadata": {},
   "outputs": [],
   "source": []
  }
 ],
 "metadata": {
  "kernelspec": {
   "display_name": "Python 3",
   "language": "python",
   "name": "python3"
  },
  "language_info": {
   "codemirror_mode": {
    "name": "ipython",
    "version": 3
   },
   "file_extension": ".py",
   "mimetype": "text/x-python",
   "name": "python",
   "nbconvert_exporter": "python",
   "pygments_lexer": "ipython3",
   "version": "3.8.5"
  }
 },
 "nbformat": 4,
 "nbformat_minor": 2
}
