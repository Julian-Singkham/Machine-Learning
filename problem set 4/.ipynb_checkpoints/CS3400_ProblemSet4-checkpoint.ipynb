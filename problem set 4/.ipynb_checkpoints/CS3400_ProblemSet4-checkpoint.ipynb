{
 "cells": [
  {
   "cell_type": "markdown",
   "metadata": {},
   "source": [
    "# Problem Set 4\n",
    "Submitted By: Julian Singkham  \n",
    "Date: 10/16/2021"
   ]
  },
  {
   "cell_type": "markdown",
   "metadata": {},
   "source": [
    "1) Let’s practice plotting the linear decision boundary learned by a logistic regression model. Assume you are given the following fitted model:\n",
    "$$P(y=1|x)=\\frac{1}{1+e^{-(32-9.4x_1+8x_2)}}$$\n",
    "First, we want to pull out the part of the equation corresponding to the plane and set it equal to 0: \n",
    "$$32-9.4x_1+8x_2=0$$\n",
    "\n",
    "Next, if we re-arrange the equation, we obtain: \n",
    "$$-8x_2=32-9.4x_1$$\n",
    "\n",
    "which simplifies to: \n",
    "$$x_2=-4+1.175x_1$$\n",
    "\n",
    "We can now use NumPy’s linspace function to generate the x1 values and then plug them into the line’s equation to generate the values for x2. Lastly, we can plot the line defined by the two arrays of x1 and x2 values.  \n",
    "\n",
    "Your turn! Find the equation of the line/plane for each fitted model below and plot the line/plane. \n",
    "$$P(y=1|x)=\\frac{1}{1+e^{-(-20.96-123.08x_1+40.46x_2)}}$$\n",
    "$$40.46x_2=20.96+123.08x_1$$\n"
   ]
  },
  {
   "cell_type": "code",
   "execution_count": 1,
   "metadata": {},
   "outputs": [],
   "source": [
    "import pandas as pd\n",
    "import numpy as np\n",
    "import matplotlib.pyplot as plt"
   ]
  },
  {
   "cell_type": "code",
   "execution_count": 7,
   "metadata": {},
   "outputs": [
    {
     "data": {
      "text/plain": [
       "Text(0, 0.5, 'x2')"
      ]
     },
     "execution_count": 7,
     "metadata": {},
     "output_type": "execute_result"
    },
    {
     "data": {
      "image/png": "[encoded data removed]",
      "text/plain": [
       "<Figure size 432x288 with 1 Axes>"
      ]
     },
     "metadata": {
      "needs_background": "light"
     },
     "output_type": "display_data"
    }
   ],
   "source": [
    "x1 = np.linspace(0,10,num=10000)\n",
    "x2 = (123.08*x1+20.96)/40.46\n",
    "plt.plot(x1, x2)\n",
    "plt.xlabel(\"X1\")\n",
    "plt.ylabel(\"x2\")"
   ]
  },
  {
   "cell_type": "markdown",
   "metadata": {},
   "source": [
    "2) A logistic regression model is trained by finding weights which optimize the logistic likelihood function:\n",
    "$$L = \\prod_{i=1}^{N}P(y^i=1|x^i)^{y^i}(1-P(y^i=1|x^i))^{1-y^i}$$\n",
    "\n",
    "where $x^i$ represents the feature vector of the $i^{th}$ sample and $y^i$ represents the label of the $i^{th}$ sample.\n",
    "\n",
    "Logistic regression computes the probability that each sample $x^i$ belongs to class 1. Formally, the\n",
    "logistic regression model is referred to as $P(y^i=1|x^i)$. Since logistic regression only assumes two possible outcomes, the probability that the sample is not in class 1 is given by $1−P(y^i=1|x^i)$. Depending on which class (designated 0 or 1) the sample is in, the exponent of one term will be 1 and the other will be 0. So only one term is used per sample in the calculation of the likelihood.\n",
    "\n",
    "For example, assume we are trying to distinguish between “setosa” and “non-setosa” samples.\n",
    "If a sample i = 5 has relatively small petal lengths and widths, there is a high probability (e.g.,\n",
    "99%) that the sample belongs to the “setosa” class. We would write this as $P(y^5=setosa|x^5)=0.99$. Assume that the sample genuinely does belong to the “setosa” species so $y^5=1$. Since $1-y^5=1-1=0$, the $1-P(y^5=1|x^5)$ is reduced to 1. We then calculate the rest to get the\n",
    "loss for that sample:\n",
    "$$L_i=P(y^i=1|x^i)^{y^i}(1-P(y^i=1|x^i))^{1-y^i}$$\n",
    "$$L_5=0.99^1(1-0.99)^{1-1}$$\n",
    "$$L_5=0.99$$\n",
    "\n",
    "Now, let’s look at the case where the species of sample 7’s species is not setosa but the model\n",
    "predicts that it is. Assume the model gives us a probability of 75% of being in setosa: $P(y^7=setosa|x^7)=0.75$. The true class of the sample is 0 so $y^7=0$.\n",
    "$$L_i=P(y^i=1|x^i)^{y^i}(1-P(y^i=1|x^i))^{1-y^i}$$\n",
    "$$L_7=0.75^0(1-0.75)^{1-0}$$\n",
    "$$L_5=1-0.75$$\n",
    "$$L_5=0.25$$\n",
    "\n",
    "(a) Calculate the likelihood for each sample and overall when all of the model’s estimated probabilities are consistent with the true class.  \n",
    "\n",
    "| P(y=1) | y | Per-Sample Likelihood           |\n",
    "| ------ | - | ------------------------------- |\n",
    "| 0.99   | 1 | $$L=0.99^1(1-0.99)^{1-1}=0.99$$ |\n",
    "| 0.99   | 1 | $$L=0.99^1(1-0.99)^{1-1}=0.99$$ |\n",
    "| 0.01   | 0 | $$L=0.01^0(1-0.01)^{1-0}=0.99$$ |\n",
    "| 0.01   | 0 | $$L=0.01^0(1-0.01)^{1-0}=0.99$$ |\n",
    "| 0.99   | 1 | $$L=0.99^1(1-0.99)^{1-1}=0.99$$ |\n",
    "Overall: 99%\n",
    "\n",
    "\n",
    "(c) Calculate the likelihood for each sample and overall for the following five samples.\n",
    "\n",
    "| P(y=1) | y | Per-Sample Likelihood           |\n",
    "| ------ | - | ------------------------------- |\n",
    "| 0.75   | 1 | $$L=0.75^1(1-0.75)^{1-1}=0.75$$ |\n",
    "| 0.99   | 1 | $$L=0.99^1(1-0.99)^{1-1}=0.99$$ |\n",
    "| 0.25   | 0 | $$L=0.25^0(1-0.25)^{1-0}=0.75$$ |\n",
    "| 0.01   | 0 | $$L=0.01^0(1-0.01)^{1-0}=0.99$$ |\n",
    "| 0.99   | 1 | $$L=0.99^1(1-0.99)^{1-1}=0.99$$ |\n",
    "Overall: 89.4%\n",
    "\n",
    "(d) What is the best possible likelihood value? What is the worst possible likelihood value?  \n",
    "The best possible likelihood is 0.99 as that means there is a near certain possibility that the value is correct/will happen. I don't believe a likelihood of 1.0 is possible. The worst possible likelihood value is 0.0 as that means it will never happen."
   ]
  },
  {
   "cell_type": "markdown",
   "metadata": {},
   "source": [
    "3) Interpretability of Logistic Regression  \n",
    "Write question later\n",
    "\n",
    "    1) For instance, if we keep all features constant and we increase x1 by 1 unit, how does y change?\n",
    "y will change by $\\beta_1$\n",
    "\n",
    "    2) TBD\n",
    "        a) If we keep all features constant and we increase x1 by 1 unit, how does the odds change?\n",
    "The odds will change by $e^{-\\beta_1}$\n",
    "\n",
    "3) A logistic regression model was fitted on heart failure clinical records data set (extracted from here). The data consists of clinical features and the target is to predict heart failure (1 means heart failure and 0 means no heart failure). The features and the weights obtained are the following:\n",
    "\n",
    "| Features             | Description                                                   | Weights |\n",
    "| -------------------- | ------------------------------------------------------------- | ------- |\n",
    "| Age                  | Age of the patient (years)                                    | 0.0538  |\n",
    "| Anaemia              | Decrease if red blood cells or hemoglobin (boolean)           | 0.2287  |\n",
    "| Diabetes             | If the patient has diabetes (boolean)                         | 0.1611  |\n",
    "| Ejection Fraction    | Percentage of blood leaving the heart at each contraction (%) | -0.0723 |\n",
    "| High Blood Pressure  | If the patient has hypertension (boolean)                     | 0.3520  |\n",
    "| Creatinine           | Level of serum creatinine in the blood (mg/dL)                | 0.6723  |\n",
    "| Gender               | (1) Woman or (0) Man                                          | -0.23   |\n",
    "\n",
    "    How do you intrepret the weights for the following features: gender and serum creatinine? (How does the odds for heart failure vs no heart failure change if we change each of those features individually?)  \n",
    "\n",
    "Gender wise, woman are 23% less likely to get heart failure. Serum creatinine has a very high factor in determining heart failure as it's weighted at 67.23 percent. This means that an increase in serum creatine levels, greatly increases the likelihood of getting heart failure."
   ]
  },
  {
   "cell_type": "markdown",
   "metadata": {},
   "source": [
    "4) Growing Trees - Gini Index\n",
    "There are various algorithms to construct a decision tree. The classification and regression trees (CART) algorithm is the most popular algorithm. It consists of a top-down greedy approach known as recursive binary splitting that aims at dividing the feature space into non-overlapping regions: it begins at the root or top of the tree, finds the best split at the root and then successively repeats the same steps for each child node (top-down: it starts from the root, greedy: it chooses the best split at each step). When constructing a classification tree, the best split is chosen according to a measure that indicates the node impurity - node impurity refers to how much the data in each node or region is mixed. An example of such measure is the Gini index.\n",
    "\n",
    "**Steps of CART algorithm** (classification):  \n",
    "(a) Start at the root  \n",
    "(b) Determine the best feature and threshold to split: for each feature xj , find the best cutpoint or threshold v such that the sum of the node impurities of the two regions (or two nodes) defined by $x_j < v$ and $x_j ≥ v$ is minimized. Then choose the best feature.  \n",
    "(c) If a stopping criterion is reached, exit. Otherwise, repeat for each child node.  \n",
    "\n",
    "In this exercise, you will explore the Gini index and work on finding the root node of a small\n",
    "classification dataset.   \n",
    "\n",
    "1. When a split is performed while constructing a classification tree, two regions in the feature space are created, where each region contains a subset of the training data. To measure how much this subset is impure (or mixed) in a given region, we find the Gini index. If the data consists of C classes, the Gini index (G) is defined as:\n",
    "\n",
    "(a) Find the Gini index for each of the following three cases:\n",
    "* the data points in a region all belong to class 1  \n",
    "G = 1\n",
    "\n",
    "* the data points in a region all belong to class 0  \n",
    "G = 0\n",
    "\n",
    "* half of the data points in a region belong to class 1  \n",
    "G = 0.50\n",
    "\n",
    "(b) Plot the function of Gini index with respect to prop(of class 1).\n",
    "\n",
    "2. Consider the following training dataset:  \n",
    "(a)Find the Gini index for the overall training dataset.  \n",
    "$$G=2*(0.6)(1-0.6)=0.48$$  \n",
    "\n",
    "(d) Which feature should be chosen for the root node?    \n",
    "prevalentHyp should be used as it better divides the tree evenly  "
   ]
  },
  {
   "cell_type": "code",
   "execution_count": null,
   "metadata": {},
   "outputs": [],
   "source": []
  }
 ],
 "metadata": {
  "kernelspec": {
   "display_name": "Python 3",
   "language": "python",
   "name": "python3"
  },
  "language_info": {
   "codemirror_mode": {
    "name": "ipython",
    "version": 3
   },
   "file_extension": ".py",
   "mimetype": "text/x-python",
   "name": "python",
   "nbconvert_exporter": "python",
   "pygments_lexer": "ipython3",
   "version": "3.8.5"
  }
 },
 "nbformat": 4,
 "nbformat_minor": 4
}
